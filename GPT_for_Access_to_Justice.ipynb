{
  "cells": [
    {
      "cell_type": "code",
      "execution_count": null,
      "metadata": {
        "colab": {
          "base_uri": "https://localhost:8080/"
        },
        "id": "i9WsQoAaXWHa",
        "outputId": "d238ba3a-fc48-4a6f-889a-48309b62856f"
      },
      "outputs": [
        {
          "name": "stdout",
          "output_type": "stream",
          "text": [
            "Requirement already satisfied: openai in /usr/local/lib/python3.11/dist-packages (1.76.2)\n",
            "Requirement already satisfied: anyio<5,>=3.5.0 in /usr/local/lib/python3.11/dist-packages (from openai) (4.9.0)\n",
            "Requirement already satisfied: distro<2,>=1.7.0 in /usr/local/lib/python3.11/dist-packages (from openai) (1.9.0)\n",
            "Requirement already satisfied: httpx<1,>=0.23.0 in /usr/local/lib/python3.11/dist-packages (from openai) (0.28.1)\n",
            "Requirement already satisfied: jiter<1,>=0.4.0 in /usr/local/lib/python3.11/dist-packages (from openai) (0.9.0)\n",
            "Requirement already satisfied: pydantic<3,>=1.9.0 in /usr/local/lib/python3.11/dist-packages (from openai) (2.11.4)\n",
            "Requirement already satisfied: sniffio in /usr/local/lib/python3.11/dist-packages (from openai) (1.3.1)\n",
            "Requirement already satisfied: tqdm>4 in /usr/local/lib/python3.11/dist-packages (from openai) (4.67.1)\n",
            "Requirement already satisfied: typing-extensions<5,>=4.11 in /usr/local/lib/python3.11/dist-packages (from openai) (4.13.2)\n",
            "Requirement already satisfied: idna>=2.8 in /usr/local/lib/python3.11/dist-packages (from anyio<5,>=3.5.0->openai) (3.10)\n",
            "Requirement already satisfied: certifi in /usr/local/lib/python3.11/dist-packages (from httpx<1,>=0.23.0->openai) (2025.4.26)\n",
            "Requirement already satisfied: httpcore==1.* in /usr/local/lib/python3.11/dist-packages (from httpx<1,>=0.23.0->openai) (1.0.9)\n",
            "Requirement already satisfied: h11>=0.16 in /usr/local/lib/python3.11/dist-packages (from httpcore==1.*->httpx<1,>=0.23.0->openai) (0.16.0)\n",
            "Requirement already satisfied: annotated-types>=0.6.0 in /usr/local/lib/python3.11/dist-packages (from pydantic<3,>=1.9.0->openai) (0.7.0)\n",
            "Requirement already satisfied: pydantic-core==2.33.2 in /usr/local/lib/python3.11/dist-packages (from pydantic<3,>=1.9.0->openai) (2.33.2)\n",
            "Requirement already satisfied: typing-inspection>=0.4.0 in /usr/local/lib/python3.11/dist-packages (from pydantic<3,>=1.9.0->openai) (0.4.0)\n",
            "Collecting tiktoken\n",
            "  Downloading tiktoken-0.9.0-cp311-cp311-manylinux_2_17_x86_64.manylinux2014_x86_64.whl.metadata (6.7 kB)\n",
            "Requirement already satisfied: regex>=2022.1.18 in /usr/local/lib/python3.11/dist-packages (from tiktoken) (2024.11.6)\n",
            "Requirement already satisfied: requests>=2.26.0 in /usr/local/lib/python3.11/dist-packages (from tiktoken) (2.32.3)\n",
            "Requirement already satisfied: charset-normalizer<4,>=2 in /usr/local/lib/python3.11/dist-packages (from requests>=2.26.0->tiktoken) (3.4.1)\n",
            "Requirement already satisfied: idna<4,>=2.5 in /usr/local/lib/python3.11/dist-packages (from requests>=2.26.0->tiktoken) (3.10)\n",
            "Requirement already satisfied: urllib3<3,>=1.21.1 in /usr/local/lib/python3.11/dist-packages (from requests>=2.26.0->tiktoken) (2.4.0)\n",
            "Requirement already satisfied: certifi>=2017.4.17 in /usr/local/lib/python3.11/dist-packages (from requests>=2.26.0->tiktoken) (2025.4.26)\n",
            "Downloading tiktoken-0.9.0-cp311-cp311-manylinux_2_17_x86_64.manylinux2014_x86_64.whl (1.2 MB)\n",
            "\u001b[2K   \u001b[90m━━━━━━━━━━━━━━━━━━━━━━━━━━━━━━━━━━━━━━━━\u001b[0m \u001b[32m1.2/1.2 MB\u001b[0m \u001b[31m30.2 MB/s\u001b[0m eta \u001b[36m0:00:00\u001b[0m\n",
            "\u001b[?25hInstalling collected packages: tiktoken\n",
            "Successfully installed tiktoken-0.9.0\n"
          ]
        }
      ],
      "source": [
        "!pip install openai\n",
        "!pip install tiktoken"
      ]
    },
    {
      "cell_type": "code",
      "execution_count": null,
      "metadata": {
        "colab": {
          "base_uri": "https://localhost:8080/"
        },
        "id": "wFIfSmUlesr2",
        "outputId": "46a3880a-3a13-4aea-8a2b-ae1358463c64"
      },
      "outputs": [
        {
          "name": "stdout",
          "output_type": "stream",
          "text": [
            "Enter Deepseek API key: ··········\n"
          ]
        }
      ],
      "source": [
        "import openai\n",
        "from getpass import getpass\n",
        "key = getpass('Enter Deepseek API key: ')\n"
      ]
    },
    {
      "cell_type": "code",
      "execution_count": null,
      "metadata": {
        "id": "ftuUdmlSdem7"
      },
      "outputs": [],
      "source": [
        "from openai import OpenAI\n",
        "\n",
        "client = OpenAI(api_key=key, base_url=\"https://api.deepseek.com\")"
      ]
    },
    {
      "cell_type": "code",
      "execution_count": null,
      "metadata": {
        "colab": {
          "base_uri": "https://localhost:8080/"
        },
        "id": "zlxVCLec4Wb0",
        "outputId": "42d0144b-ec69-4f4c-9e5f-85fe19b8b761"
      },
      "outputs": [
        {
          "name": "stdout",
          "output_type": "stream",
          "text": [
            "Please provide the material to build the interview from. \n",
            "Enter '1' to input a URL or '2' to input plain text: 1\n",
            "Enter the URL: https://www.citizensadvice.org.uk/housing/eviction/getting-evicted/renting-privately/if-you-get-a-section-21-notice/\n"
          ]
        }
      ],
      "source": [
        "import urllib.request\n",
        "import tiktoken\n",
        "from bs4 import BeautifulSoup\n",
        "choice = input(\"Please provide the material to build the interview from. \\nEnter '1' to input a URL or '2' to input plain text: \")\n",
        "if choice == '1':\n",
        "  encoding = tiktoken.get_encoding(\"cl100k_base\")\n",
        "  url = input(\"Enter the URL: \")\n",
        "  response = urllib.request.urlopen(url).read()\n",
        "  soup = BeautifulSoup(response, features =\"html.parser\")\n",
        "  input_text = soup.get_text()\n",
        "elif choice == '2':\n",
        "  input_text = input(\"Enter the plain text: \")"
      ]
    },
    {
      "cell_type": "code",
      "execution_count": 111,
      "metadata": {
        "id": "h7JIwTzjkfmK"
      },
      "outputs": [],
      "source": [
        "def generate_with_reasoner(input_text, prompt):\n",
        "  response = client.chat.completions.create(\n",
        "      model=\"deepseek-reasoner\",\n",
        "      messages=[\n",
        "          {\"role\": \"system\", \"content\": prompt},\n",
        "          {\"role\": \"user\", \"content\": input_text},\n",
        "      ],\n",
        "      temperature=0,\n",
        "      frequency_penalty=0,\n",
        "      presence_penalty=0,\n",
        "  )\n",
        "  return response"
      ]
    },
    {
      "cell_type": "markdown",
      "metadata": {
        "id": "8IH7JsaVgYdL"
      },
      "source": [
        "Prompt for identifying conditions and constructing Docassemble questions/events. Output will be saved as skeleton.yml."
      ]
    },
    {
      "cell_type": "code",
      "execution_count": 112,
      "metadata": {
        "id": "KHXkTj9_dlEK"
      },
      "outputs": [],
      "source": [
        "prompt_1 = \"\"\"You are to assume the role of a legal expert building an expert system. The input text describes some\n",
        "            criteria for a legal conclusion being either true or false. You will return a set of Docassemble questions\n",
        "            in YAML format.\n",
        "\n",
        "            To generate questions, you must identify all conditions that can affect the conclusion. Some will\n",
        "            have a direct effect, and some may have an overriding effect. A condition that has an overriding effect\n",
        "            invalidates the necessity of another condition. When identifying explicit conditions, carefully consider\n",
        "            whether they are independent or dependent on other information.\n",
        "\n",
        "            There should only be two events - one which occurs when the conclusion is true and\n",
        "            one which occurs when the conclusion is false.\n",
        "            For each event:\n",
        "\n",
        "            1. Define the \"event\" name.\n",
        "            2. Define the event \"question\" (the written conclusion that the user will see).\n",
        "\n",
        "            There must be a number of questions necessary to accurately determine the conclusion.\n",
        "            For all questions:\n",
        "\n",
        "            1. Define a clear \"question\" for the user.\n",
        "            2. Define the question type: either \"yesno\" or \"date\".\n",
        "            3. Define the field name which will store the user's response (boolean or date value).\n",
        "\n",
        "            Rules for the output:\n",
        "            - The question type must be either \"yesno\" or \"date\". No other types are permitted.\n",
        "            - Questions that relate to a specific time period or date must use a \"date\" field.\n",
        "            - Do not include unnecessary or duplicate questions.\n",
        "            - Do not include additional information that describes eligibility cutoffs, such as:\n",
        "                - “Required after [date]”\n",
        "                - “Does not apply if...”.\n",
        "              These types of conditions will be handled by interview logic when the system is built.\n",
        "            - If a legal condition requires checking exceptions (e.g. unless, except), create an explicit question to capture that.\n",
        "            - Questions must straightforward to answer, if a question is too complex, separate into multiple questions.\n",
        "            - Do not define any interview logic or code blocks, as this will be implemented after.\n",
        "\n",
        "\n",
        "            Example Input:\n",
        "\n",
        "            \"Check if your family members can get pre-settled status or settled status. If you’re an EU, EEA or Swiss citizen living in the UK,\n",
        "            some of your family can also apply to come and live in the UK. They can apply for pre-settled or settled status from the EU Settlement\n",
        "            Scheme if both:\n",
        "            - you have pre-settled or settled status\n",
        "            - your relationship with your family member started by 31 December 2020 - unless you’re a Swiss citizen\n",
        "            If your family member is a child who was born after 31 December 2020, you can also apply for them to come and live in the UK.\n",
        "            If you came to the UK on a visa after 31 December 2020, you can't use the EU Settlement Scheme to bring your family to the UK.\n",
        "            You’ll need to check if your visa allows you to bring your family to the UK. The EEA includes EU countries and also Iceland, Liechtenstein\n",
        "            and Norway.\"\n",
        "\n",
        "            Example Output:\n",
        "            ---\n",
        "            question: |\n",
        "              Are you an EU citizen?\n",
        "            yesno: is_eu_citizen\n",
        "            ---\n",
        "            question: |\n",
        "              Do you have settled status?\n",
        "            yesno: is_settled\n",
        "            ---\n",
        "            question: |\n",
        "              Do you have pre-settled status?\n",
        "            yesno: is_pre_settled\n",
        "            ---\n",
        "            question: |\n",
        "              What date did your relationship with your family member start?\n",
        "            fields:\n",
        "              - Date: date_of_relation_start\n",
        "                datatype: date\n",
        "            ---\n",
        "            question: |\n",
        "              Are you Swiss?\n",
        "            yesno: is_swiss\n",
        "            ---\n",
        "            question: |\n",
        "              What is your family member's date of birth?\n",
        "            fields:\n",
        "              - Date: date_of_birth\n",
        "                datatype: date\n",
        "            ---\n",
        "            question: |\n",
        "              Did you come to the UK on a visa?\n",
        "            yesno: arrived_on_visa\n",
        "            ---\n",
        "            question: |\n",
        "              What date did you arrive on this visa?\n",
        "            fields:\n",
        "              - Date: date_of_arrival\n",
        "                datatype: date\n",
        "            ---\n",
        "            event: cannot_apply_event\n",
        "            question: |\n",
        "              You do not meet the basic requirements for your family to apply for pre-settled or settled status from the EU settlement scheme.\n",
        "            buttons:\n",
        "            - Exit: exit\n",
        "            ---\n",
        "            event: can_apply_event\n",
        "            question: |\n",
        "              You meet the basic requirements for your family to apply for pre-settled or settled status from the EU settlement scheme.\n",
        "            buttons:\n",
        "            - Exit: exit\n",
        "            ---\n",
        "\n",
        "         \"\"\""
      ]
    },
    {
      "cell_type": "code",
      "execution_count": 113,
      "metadata": {
        "id": "iPss9E6jNmG2"
      },
      "outputs": [],
      "source": [
        "response = generate_with_reasoner(input_text, prompt_1)\n",
        "reasoning_content = response.choices[0].message.reasoning_content\n",
        "skeleton = response.choices[0].message.content"
      ]
    },
    {
      "cell_type": "markdown",
      "metadata": {
        "id": "y-5PZpyagryU"
      },
      "source": [
        "Prompt for adapting skeleton.yml to include interview logic, based on relationships between conditions. Output will be saved as interview.yml"
      ]
    },
    {
      "cell_type": "code",
      "execution_count": 114,
      "metadata": {
        "id": "kYX68zPawpAJ"
      },
      "outputs": [],
      "source": [
        "prompt_2 = \"\"\"You are assuming the role of a legal expert developing an expert system. Your task is to complete a docassemble interview that reaches a legal conclusion.\n",
        "\n",
        "            You will be provided with:\n",
        "            - A YAML file containing Docassemble questions\n",
        "            - Legal material\n",
        "\n",
        "            You must generate the complete interview, including all questions and code blocks.\n",
        "\n",
        "            Use only the legal text to determine the logic and construct the necessary questions.\n",
        "\n",
        "            Code Block Requirements:\n",
        "\n",
        "            - Code blocks must adhere to the structure provided in the example. When writing logic, use a single,\n",
        "              cohesive boolean expression with proper logical operators and parentheses.\n",
        "              Do not use multiple \"if\" statements.\n",
        "\n",
        "            - The first code block must be the only block marked \"mandatory: True\".\n",
        "              It must contain the main logic that evaluates to a boolean value (e.g., \"can_apply = True\" or \"False\").\n",
        "              This block must trigger an event depending on the outcome of the evaluation (\"can_apply_event\" or \"cannot_apply_event\").\n",
        "\n",
        "            - Subsequent blocks may define boolean variables based on conditions (e.g. date comparisons or grouped expressions).\n",
        "              These blocks should appear after the main logic so they are only be evaluated if needed.\n",
        "              Do not give booleans default values at the start of a code block, as this may cause the code block to be terminated\n",
        "              without completing.\n",
        "\n",
        "            - Use the \"as_datetime()\" function from docassemble's \"DADateTime\" class for date handling.\n",
        "              Example: \"cutoff = as_datetime('12/31/2020')\"\n",
        "              Do not use \"datetime\" directly. Use \"today()\" instead of \"datetime.date.today()\".\n",
        "              To add time to a date variable use .plus(months=...)\n",
        "\n",
        "            Rules for questions:\n",
        "            - The question type must be either \"yesno\" or \"date\". No other types are permitted.\n",
        "            - Questions that relate to a specific time period or date must use a \"date\" field.\n",
        "            - Do not include unnecessary or duplicate questions.\n",
        "            - If a legal condition requires checking exceptions (e.g. unless, except), create an explicit question to capture that.\n",
        "            - Questions must straightforward to answer, if a question is too complex, separate into multiple questions.\n",
        "\n",
        "\n",
        "            You must output the full interview in valid YAML format.\n",
        "\n",
        "            Example Input:\n",
        "\n",
        "            \"Check if your family members can get pre-settled status or settled status. If you’re an EU, EEA or Swiss citizen living in the UK,\n",
        "            some of your family can also apply to come and live in the UK. They can apply for pre-settled or settled status from the EU Settlement\n",
        "            Scheme if both:\n",
        "            - you have pre-settled or settled status\n",
        "            - your relationship with your family member started by 31 December 2020 - unless you’re a Swiss citizen\n",
        "            If your family member is a child who was born after 31 December 2020, you can also apply for them to come and live in the UK.\n",
        "            If you came to the UK on a visa after 31 December 2020, you can't use the EU Settlement Scheme to bring your family to the UK.\n",
        "            You’ll need to check if your visa allows you to bring your family to the UK. The EEA includes EU countries and also Iceland, Liechtenstein\n",
        "            and Norway.\"\n",
        "\n",
        "            Example Code Blocks (Not including questions that should be in the final output):\n",
        "\n",
        "            ---\n",
        "            mandatory: True\n",
        "            code: |\n",
        "              if (\n",
        "                is_eu_citizen and\n",
        "                (is_settled or is_pre_settled) and\n",
        "                (is_swiss or relation_started_by or was_born_after) and\n",
        "                not (arrived_on_visa and arrived_after)\n",
        "              ):\n",
        "                can_apply = True\n",
        "              else:\n",
        "                can_apply = False\n",
        "\n",
        "              if can_apply:\n",
        "                can_apply_event\n",
        "              else:\n",
        "                cannot_apply_event\n",
        "            ---\n",
        "            code: |\n",
        "              relation_cutoff = as_datetime('12/31/2020')\n",
        "              if date_of_relation_start <= relation_cutoff:\n",
        "                relation_started_by = True\n",
        "              else:\n",
        "                relation_started_by = False\n",
        "            ---\n",
        "            code: |\n",
        "              birth_cutoff = as_datetime('12/31/2020')\n",
        "              if date_of_birth > birth_cutoff:\n",
        "                was_born_after = True\n",
        "              else:\n",
        "                was_born_after = False\n",
        "            ---\n",
        "            code: |\n",
        "              arrival_cutoff = as_datetime('12/31/2020')\n",
        "              if date_of_arrival > arrival_cutoff:\n",
        "                arrived_after = True\n",
        "              else:\n",
        "                arrived_after = False\n",
        "        \"\"\""
      ]
    },
    {
      "cell_type": "code",
      "execution_count": null,
      "metadata": {
        "id": "4XINPvUtxu-h"
      },
      "outputs": [],
      "source": [
        "response = generate_with_reasoner(input_text + skeleton, prompt_2)\n",
        "reasoning_content = response.choices[0].message.reasoning_content\n",
        "interview = response.choices[0].message.content"
      ]
    },
    {
      "cell_type": "code",
      "execution_count": null,
      "metadata": {
        "id": "hQQeDmuR4Qgx"
      },
      "outputs": [],
      "source": [
        "import yaml\n",
        "\n",
        "lines = interview.splitlines()\n",
        "cleaned_yaml = \"\\n\".join(lines[1:-1])\n",
        "\n",
        "with open('interview.yml', 'w') as outfile:\n",
        "    outfile.write(cleaned_yaml)"
      ]
    },
    {
      "cell_type": "code",
      "source": [
        "print(interview)"
      ],
      "metadata": {
        "id": "KMCXgZd3bjUg"
      },
      "execution_count": null,
      "outputs": []
    },
    {
      "cell_type": "code",
      "execution_count": null,
      "metadata": {
        "id": "lDEZp5ZWOyWH"
      },
      "outputs": [],
      "source": [
        "prompt_3 = \"\"\"You are assuming the role of a legal expert, building an expert system. You will be provided a Docassemble\n",
        "              interview which you need to adjust.\n",
        "\n",
        "              For each question you must add a 'subquestion' which includes supporting information relevant to the question.\n",
        "\n",
        "              The existing elements of the file should not be altered (code, questions, events).\n",
        "\n",
        "              Information should be neatly formatted with headings and bold text.\n",
        "              This must be written in full explanatory sentences.\n",
        "\n",
        "              The type of information to include in order of importance:\n",
        "                - Clarification of uncommon terms in the question.\n",
        "                - Context to help the user understand what the question is referring to.\n",
        "                - Guidance to help users interpret how the question applies to their circumstances, relative to their path taken in the interview present.\n",
        "                - URL links to relevant external resources, if necessary.\n",
        "\n",
        "              Your output must be the full in interview in YAML format.\n",
        "            \"\"\""
      ]
    },
    {
      "cell_type": "code",
      "execution_count": null,
      "metadata": {
        "id": "58YcVoaKO_-f"
      },
      "outputs": [],
      "source": [
        "response = generate_with_reasoner(input_text + interview, prompt_3)\n",
        "reasoning_content = response.choices[0].message.reasoning_content\n",
        "interview_with_information = response.choices[0].message.content"
      ]
    },
    {
      "cell_type": "code",
      "execution_count": null,
      "metadata": {
        "id": "miHrlkYZPK67"
      },
      "outputs": [],
      "source": [
        "lines = interview_with_information.splitlines()\n",
        "cleaned_yaml = \"\\n\".join(lines[1:-1])\n",
        "\n",
        "with open('final_interview.yml', 'w') as outfile:\n",
        "    outfile.write(cleaned_yaml)"
      ]
    }
  ],
  "metadata": {
    "colab": {
      "provenance": []
    },
    "kernelspec": {
      "display_name": "Python 3",
      "name": "python3"
    },
    "language_info": {
      "name": "python"
    }
  },
  "nbformat": 4,
  "nbformat_minor": 0
}