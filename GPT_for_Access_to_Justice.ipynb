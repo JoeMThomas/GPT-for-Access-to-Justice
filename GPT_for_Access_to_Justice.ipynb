{
  "nbformat": 4,
  "nbformat_minor": 0,
  "metadata": {
    "colab": {
      "provenance": []
    },
    "kernelspec": {
      "name": "python3",
      "display_name": "Python 3"
    },
    "language_info": {
      "name": "python"
    }
  },
  "cells": [
    {
      "cell_type": "code",
      "execution_count": 1,
      "metadata": {
        "colab": {
          "base_uri": "https://localhost:8080/"
        },
        "id": "i9WsQoAaXWHa",
        "outputId": "1d907fad-d627-4f68-98fd-6439ddc30b21"
      },
      "outputs": [
        {
          "output_type": "stream",
          "name": "stdout",
          "text": [
            "Requirement already satisfied: openai in /usr/local/lib/python3.11/dist-packages (1.76.0)\n",
            "Requirement already satisfied: anyio<5,>=3.5.0 in /usr/local/lib/python3.11/dist-packages (from openai) (4.9.0)\n",
            "Requirement already satisfied: distro<2,>=1.7.0 in /usr/local/lib/python3.11/dist-packages (from openai) (1.9.0)\n",
            "Requirement already satisfied: httpx<1,>=0.23.0 in /usr/local/lib/python3.11/dist-packages (from openai) (0.28.1)\n",
            "Requirement already satisfied: jiter<1,>=0.4.0 in /usr/local/lib/python3.11/dist-packages (from openai) (0.9.0)\n",
            "Requirement already satisfied: pydantic<3,>=1.9.0 in /usr/local/lib/python3.11/dist-packages (from openai) (2.11.3)\n",
            "Requirement already satisfied: sniffio in /usr/local/lib/python3.11/dist-packages (from openai) (1.3.1)\n",
            "Requirement already satisfied: tqdm>4 in /usr/local/lib/python3.11/dist-packages (from openai) (4.67.1)\n",
            "Requirement already satisfied: typing-extensions<5,>=4.11 in /usr/local/lib/python3.11/dist-packages (from openai) (4.13.2)\n",
            "Requirement already satisfied: idna>=2.8 in /usr/local/lib/python3.11/dist-packages (from anyio<5,>=3.5.0->openai) (3.10)\n",
            "Requirement already satisfied: certifi in /usr/local/lib/python3.11/dist-packages (from httpx<1,>=0.23.0->openai) (2025.4.26)\n",
            "Requirement already satisfied: httpcore==1.* in /usr/local/lib/python3.11/dist-packages (from httpx<1,>=0.23.0->openai) (1.0.9)\n",
            "Requirement already satisfied: h11>=0.16 in /usr/local/lib/python3.11/dist-packages (from httpcore==1.*->httpx<1,>=0.23.0->openai) (0.16.0)\n",
            "Requirement already satisfied: annotated-types>=0.6.0 in /usr/local/lib/python3.11/dist-packages (from pydantic<3,>=1.9.0->openai) (0.7.0)\n",
            "Requirement already satisfied: pydantic-core==2.33.1 in /usr/local/lib/python3.11/dist-packages (from pydantic<3,>=1.9.0->openai) (2.33.1)\n",
            "Requirement already satisfied: typing-inspection>=0.4.0 in /usr/local/lib/python3.11/dist-packages (from pydantic<3,>=1.9.0->openai) (0.4.0)\n",
            "Collecting tiktoken\n",
            "  Downloading tiktoken-0.9.0-cp311-cp311-manylinux_2_17_x86_64.manylinux2014_x86_64.whl.metadata (6.7 kB)\n",
            "Requirement already satisfied: regex>=2022.1.18 in /usr/local/lib/python3.11/dist-packages (from tiktoken) (2024.11.6)\n",
            "Requirement already satisfied: requests>=2.26.0 in /usr/local/lib/python3.11/dist-packages (from tiktoken) (2.32.3)\n",
            "Requirement already satisfied: charset-normalizer<4,>=2 in /usr/local/lib/python3.11/dist-packages (from requests>=2.26.0->tiktoken) (3.4.1)\n",
            "Requirement already satisfied: idna<4,>=2.5 in /usr/local/lib/python3.11/dist-packages (from requests>=2.26.0->tiktoken) (3.10)\n",
            "Requirement already satisfied: urllib3<3,>=1.21.1 in /usr/local/lib/python3.11/dist-packages (from requests>=2.26.0->tiktoken) (2.4.0)\n",
            "Requirement already satisfied: certifi>=2017.4.17 in /usr/local/lib/python3.11/dist-packages (from requests>=2.26.0->tiktoken) (2025.4.26)\n",
            "Downloading tiktoken-0.9.0-cp311-cp311-manylinux_2_17_x86_64.manylinux2014_x86_64.whl (1.2 MB)\n",
            "\u001b[2K   \u001b[90m━━━━━━━━━━━━━━━━━━━━━━━━━━━━━━━━━━━━━━━━\u001b[0m \u001b[32m1.2/1.2 MB\u001b[0m \u001b[31m12.7 MB/s\u001b[0m eta \u001b[36m0:00:00\u001b[0m\n",
            "\u001b[?25hInstalling collected packages: tiktoken\n",
            "Successfully installed tiktoken-0.9.0\n"
          ]
        }
      ],
      "source": [
        "!pip install openai\n",
        "!pip install tiktoken"
      ]
    },
    {
      "cell_type": "code",
      "source": [
        "import openai\n",
        "from getpass import getpass\n",
        "key = getpass('Enter Deepseek API key: ')\n"
      ],
      "metadata": {
        "id": "wFIfSmUlesr2",
        "colab": {
          "base_uri": "https://localhost:8080/"
        },
        "outputId": "505168be-7cde-44c2-b48b-5113e906a310"
      },
      "execution_count": 6,
      "outputs": [
        {
          "name": "stdout",
          "output_type": "stream",
          "text": [
            "Enter API key: ··········\n"
          ]
        }
      ]
    },
    {
      "cell_type": "code",
      "source": [
        "from openai import OpenAI\n",
        "\n",
        "client = OpenAI(api_key=key, base_url=\"https://api.deepseek.com\")"
      ],
      "metadata": {
        "id": "ftuUdmlSdem7"
      },
      "execution_count": 7,
      "outputs": []
    },
    {
      "cell_type": "code",
      "source": [
        "import urllib.request\n",
        "import tiktoken\n",
        "from bs4 import BeautifulSoup\n",
        "choice = input(\"Please provide the material to build the interview from. \\nEnter '1' to input a URL or '2' to input plain text: \")\n",
        "if choice == '1':\n",
        "  encoding = tiktoken.get_encoding(\"cl100k_base\")\n",
        "  url = input(\"Enter the URL: \")\n",
        "  response = urllib.request.urlopen(url).read()\n",
        "  soup = BeautifulSoup(response, features =\"html.parser\")\n",
        "  input_text = soup.get_text()\n",
        "elif choice == '2':\n",
        "  input_text = input(\"Enter the plain text: \")"
      ],
      "metadata": {
        "colab": {
          "base_uri": "https://localhost:8080/"
        },
        "id": "zlxVCLec4Wb0",
        "outputId": "03971748-fb07-45ad-f458-167fa4762cb6"
      },
      "execution_count": 9,
      "outputs": [
        {
          "name": "stdout",
          "output_type": "stream",
          "text": [
            "Please provide the material to build the interview from. \n",
            "Enter '1' to input a URL or '2' to input plain text: 1\n",
            "Enter the URL: https://www.citizensadvice.org.uk/housing/repairs-and-housing/repairs-and-housing-conditions/whos-responsible-for-repairs/check-if-your-landlord-has-to-do-repairs/\n"
          ]
        }
      ]
    },
    {
      "cell_type": "code",
      "source": [
        "def generate_with_reasoner(input_text, prompt):\n",
        "  response = client.chat.completions.create(\n",
        "      model=\"deepseek-reasoner\",\n",
        "      messages=[\n",
        "          {\"role\": \"system\", \"content\": prompt},\n",
        "          {\"role\": \"user\", \"content\": input_text},\n",
        "      ],\n",
        "      temperature=0,\n",
        "      frequency_penalty=0,\n",
        "      presence_penalty=0,\n",
        "  )\n",
        "  return response"
      ],
      "metadata": {
        "id": "h7JIwTzjkfmK"
      },
      "execution_count": 10,
      "outputs": []
    },
    {
      "cell_type": "markdown",
      "source": [
        "Prompt for identifying conditions and constructing Docassemble questions/events. Output will be saved as skeleton.yml."
      ],
      "metadata": {
        "id": "8IH7JsaVgYdL"
      }
    },
    {
      "cell_type": "code",
      "source": [
        "prompt_1 = \"\"\"You are to assume the role of a legal expert building an expert system. The input text describes some\n",
        "            criteria for a legal conclusion being either true or false. You will output a JSON object that\n",
        "            represents a structure for the expert system. The object contains the purpose of the events (conclusions) and\n",
        "            questions.\n",
        "\n",
        "            To generate questions, you must identify all conditions that can affect the conclusion. Some will\n",
        "            have a direct effect, and some may have an overriding effect. A condition that has an overriding effect, means\n",
        "            that it invalidates the necessity of another condition. When identifying explicit conditions, carefully consider\n",
        "            whether they are independent or dependent on other information.\n",
        "\n",
        "            There should only be two events - one which occurs when the conclusion is true and\n",
        "            one which occurs when the conclusion is false. For each event:\n",
        "\n",
        "            1. Define the \"event\" name.\n",
        "            2. Define the event \"question\" (the written conclusion that the user will see).\n",
        "\n",
        "            There must be a number of questions necessary to accurately determine the conclusion. The first question, should\n",
        "            act as an initial screen, so it should have the \"mandatory\" tag and a \"Continue\" button.\n",
        "            For all other question:\n",
        "\n",
        "            1. Define a clear \"question\" for the user.\n",
        "            2. Define the question type: either \"yesno\" or \"date\".\n",
        "            3. If the input text includes necessary context or information, include this in a subquestion (e.g. question: \"Is your home unfit\n",
        "               for ihabitation?\" subquestion: \"Homes are unfit for inhabitation if they are...\").\n",
        "            4. Define the field name which will store the user's response (boolean or date value).\n",
        "\n",
        "            ***Rules for questions***\n",
        "            These rules must hold true at all times.\n",
        "\n",
        "            - The question type must be either \"yesno\"` or \"date\". No other types are permitted.\n",
        "            - If any condition in the input text involves a specific date, time period, or deadline, you must define a date field — not a yes/no.\n",
        "            - Ensure the array contains only the minimum set of questions needed to reach a correct and fair decision.\n",
        "            - Include a \"subquestion\" field if the material contains information necessary to answer the question. Do not use \"subquestion\" to explain legal rules, timeframes, or exclusions.\n",
        "            - Never include a \"subquestion\" that describes eligibility cutoffs, such as “Required after [date]” or “Does not apply if...”. These should be handled with additional questions or evaluated\n",
        "              behind the scenes when when the system is built.\n",
        "            - If a legal condition requires checking exceptions (e.g. unless, except), create an explicit question to capture that.\n",
        "            - Questions must be easy for a user to understand and answer. If a sentence in the input text is too complex, break it into multiple questions.\n",
        "\n",
        "\n",
        "            ***Example Input***\n",
        "            \"Check if your family members can get pre-settled status or settled status. If you’re an EU, EEA or Swiss citizen living in the UK,\n",
        "            some of your family can also apply to come and live in the UK. They can apply for pre-settled or settled status from the EU Settlement\n",
        "            Scheme if both:\n",
        "            - you have pre-settled or settled status\n",
        "            - your relationship with your family member started by 31 December 2020 - unless you’re a Swiss citizen\n",
        "            If your family member is a child who was born after 31 December 2020, you can also apply for them to come and live in the UK.\n",
        "            If you came to the UK on a visa after 31 December 2020, you can't use the EU Settlement Scheme to bring your family to the UK.\n",
        "            You’ll need to check if your visa allows you to bring your family to the UK. The EEA includes EU countries and also Iceland, Liechtenstein\n",
        "            and Norway.\"\n",
        "\n",
        "\n",
        "            ***Example Output***\n",
        "            [\n",
        "              {\n",
        "                \"mandatory\": true,\n",
        "                \"question\": \"This interview will determine whether your family member is able to apply for pre-settled or settled status from the EU Settlement Scheme.\",\n",
        "                \"buttons\": [\n",
        "                  {\n",
        "                    \"Continue\": \"continue\"\n",
        "                  }\n",
        "                ]\n",
        "              },\n",
        "              {\n",
        "                \"event\": \"can_apply_event\",\n",
        "                \"question\": \"You meet the basic requirements for your family to apply for pre-settled or settled status from the EU Settlement Scheme.\",\n",
        "                \"buttons\": [\n",
        "                  {\n",
        "                    \"Exit\": \"exit\"\n",
        "                  }\n",
        "                ]\n",
        "              },\n",
        "              {\n",
        "                \"question\": \"Are you an EU citizen?\",\n",
        "                \"yesno\": \"is_eu_citizen\"\n",
        "              },\n",
        "              {\n",
        "                \"question\": \"Do you have settled status?\",\n",
        "                \"yesno\": \"is_settled\"\n",
        "              },\n",
        "              {\n",
        "                \"question\": \"Do you have pre-settled status?\",\n",
        "                \"yesno\": \"is_pre_settled\"\n",
        "              },\n",
        "              {\n",
        "                \"question\": \"What date did your relationship with your family member start?\",\n",
        "                \"subquestion\": \"If they are a blood relative, this will be their date of birth\",\n",
        "                \"fields\": [\n",
        "                  {\n",
        "                    \"Date\": \"date_of_relation_start\",\n",
        "                    \"datatype\": \"date\"\n",
        "                  }\n",
        "                ]\n",
        "              },\n",
        "              {\n",
        "                \"question\": \"Are you Swiss?\",\n",
        "                \"yesno\": \"is_swiss\"\n",
        "              },\n",
        "              {\n",
        "                \"question\": \"What is your family member's date of birth?\",\n",
        "                \"fields\": [\n",
        "                  {\n",
        "                    \"Date\": \"date_of_birth\",\n",
        "                    \"datatype\": \"date\"\n",
        "                  }\n",
        "                ]\n",
        "              },\n",
        "              {\n",
        "                \"question\": \"Did you come to the UK on a visa?\",\n",
        "                \"yesno\": \"arrived_on_visa\"\n",
        "              },\n",
        "              {\n",
        "                \"question\": \"What date did you arrive on this visa?\",\n",
        "                \"fields\": [\n",
        "                  {\n",
        "                    \"Date\": \"date_of_arrival\",\n",
        "                    \"datatype\": \"date\"\n",
        "                  }\n",
        "                ]\n",
        "              }\n",
        "            ]\n",
        "\n",
        "         \"\"\""
      ],
      "metadata": {
        "id": "KHXkTj9_dlEK"
      },
      "execution_count": 11,
      "outputs": []
    },
    {
      "cell_type": "code",
      "source": [
        "response = generate_with_reasoner(input_text, prompt_1)\n",
        "reasoning_content = response.choices[0].message.reasoning_content\n",
        "output = response.choices[0].message.content"
      ],
      "metadata": {
        "id": "iPss9E6jNmG2"
      },
      "execution_count": 12,
      "outputs": []
    },
    {
      "cell_type": "code",
      "source": [
        "import json\n",
        "\n",
        "lines = output.splitlines()\n",
        "cleaned_json = \"\\n\".join(lines[1:-1])\n",
        "\n",
        "json_response = json.loads(cleaned_json)"
      ],
      "metadata": {
        "id": "1jhh11os3_3i"
      },
      "execution_count": 13,
      "outputs": []
    },
    {
      "cell_type": "code",
      "source": [
        "import yaml\n",
        "\n",
        "with open('skeleton.yml', 'w') as outfile:\n",
        "    yaml.dump_all(json_response, outfile, explicit_start=True, allow_unicode=True, default_flow_style=False)"
      ],
      "metadata": {
        "id": "1mmwpZO4l6Dl"
      },
      "execution_count": 14,
      "outputs": []
    },
    {
      "cell_type": "markdown",
      "source": [
        "Prompt for adapting skeleton.yml to include interview logic, based on relationships between conditions. Output will be saved as interview.yml"
      ],
      "metadata": {
        "id": "y-5PZpyagryU"
      }
    },
    {
      "cell_type": "code",
      "source": [
        "prompt_2 = \"\"\"You are assuming the role of a legal expert developing an expert system. Your task is to complete a docassemble interview that reaches a legal conclusion.\n",
        "\n",
        "            You will be provided with:\n",
        "            - A skeleton interview\n",
        "            - A legal text, which is the sole source of truth\n",
        "\n",
        "            You must edit the interview by adding code blocks that control the flow based on user responses. Use only the legal text to determine the logic and construct the necessary questions.\n",
        "\n",
        "            Code Block Requirements:\n",
        "\n",
        "            - The first code block must be the only block marked \"mandatory: True\".\n",
        "              It must contain the main logic that evaluates to a boolean value (e.g., \"can_apply = True\" or \"False\").\n",
        "              This block must trigger an event depending on the outcome of the evaluation (\"can_apply_event\" or \"cannot_apply_event\").\n",
        "\n",
        "            - Subsequent blocks may define boolean variables based on conditions (e.g. date comparisons or grouped expressions).\n",
        "              These blocks should come after the main logic and must only be evaluated if needed.\n",
        "              Do not give booleans default values at the start of a code block, as this may cause the code block to be terminated\n",
        "              without completing.\n",
        "\n",
        "            - Use the \"as_datetime()\" function from docassemble's \"DADateTime\" class for date handling.\n",
        "              Example: \"cutoff = as_datetime('12/31/2020')\"\n",
        "              Do not use \"datetime\" directly. Use \"today()\" instead of \"datetime.date.today()\".\n",
        "              To add time to a date variable use .plus(months=...)\n",
        "\n",
        "            - When writing logic, use a single, cohesive boolean expression with proper logical operators and parentheses.\n",
        "              Do not use multiple \"if\" statements.\n",
        "              Do not reference field names unless they are defined in a corresponding question block.\n",
        "              If a required question is missing, add it, based strictly on the legal source material.\n",
        "\n",
        "            Rules for Questions (Must Always Be Followed):\n",
        "\n",
        "            - The question type must be \"yesno\" or \"date\" — no other types are allowed.\n",
        "            - If a legal condition involves a specific date, deadline, or time period, you must use a \"date\" field.\n",
        "            - Include only the minimum set of questions required to reach a fair and accurate legal conclusion.\n",
        "            - If the user would need extra context to answer a question (e.g. legal definitions, factual criteria), include a \"subquestion\" field.\n",
        "              - Do not use \"subquestion\" to explain legal rules, timeframes, or exceptions.\n",
        "            - If the legal text includes exceptions (e.g. \"unless\", \"except\"), create a separate yes/no question to handle that logic.\n",
        "            - Questions must be phrased simply and clearly for users.\n",
        "              If a legal sentence is too complex, break it into multiple questions.\n",
        "\n",
        "            You must output the full interview in valid YAML format.\n",
        "\n",
        "            Example:\n",
        "\n",
        "            ```yaml\n",
        "            ---\n",
        "            mandatory: True\n",
        "            code: |\n",
        "              if (\n",
        "                is_eu_citizen and\n",
        "                (is_settled or is_pre_settled) and\n",
        "                (is_swiss or relation_started_by or was_born_after) and\n",
        "                not (arrived_on_visa and arrived_after)\n",
        "              ):\n",
        "                can_apply = True\n",
        "              else:\n",
        "                can_apply = False\n",
        "\n",
        "              if can_apply:\n",
        "                can_apply_event\n",
        "              else:\n",
        "                cannot_apply_event\n",
        "            ---\n",
        "            code: |\n",
        "              relation_cutoff = as_datetime('12/31/2020')\n",
        "              if date_of_relation_start <= relation_cutoff:\n",
        "                relation_started_by = True\n",
        "              else:\n",
        "                relation_started_by = False\n",
        "            ---\n",
        "            code: |\n",
        "              birth_cutoff = as_datetime('12/31/2020')\n",
        "              if date_of_birth > birth_cutoff:\n",
        "                was_born_after = True\n",
        "              else:\n",
        "                was_born_after = False\n",
        "            ---\n",
        "            code: |\n",
        "              arrival_cutoff = as_datetime('12/31/2020')\n",
        "              if date_of_arrival > arrival_cutoff:\n",
        "                arrived_after = True\n",
        "              else:\n",
        "                arrived_after = False\n",
        "            ```\n",
        "\n",
        "        \"\"\""
      ],
      "metadata": {
        "id": "kYX68zPawpAJ"
      },
      "execution_count": 22,
      "outputs": []
    },
    {
      "cell_type": "code",
      "source": [
        "with open('skeleton.yml', 'r') as f:\n",
        "    skeleton_docs = list(yaml.load_all(f, yaml.FullLoader))\n",
        "    skeleton_str = '\\n---\\n'.join([yaml.dump(doc) for doc in skeleton_docs])\n"
      ],
      "metadata": {
        "id": "xLc83MNPyyqk"
      },
      "execution_count": 23,
      "outputs": []
    },
    {
      "cell_type": "code",
      "source": [
        "response = generate_with_reasoner(input_text + skeleton_str, prompt_2)\n",
        "reasoning_content = response.choices[0].message.reasoning_content\n",
        "output = response.choices[0].message.content"
      ],
      "metadata": {
        "id": "4XINPvUtxu-h"
      },
      "execution_count": 24,
      "outputs": []
    },
    {
      "cell_type": "code",
      "source": [
        "import yaml\n",
        "\n",
        "lines = output.splitlines()\n",
        "cleaned_yaml = \"\\n\".join(lines[1:-1])\n",
        "\n",
        "with open('interview.yml', 'w') as outfile:\n",
        "    outfile.write(cleaned_yaml)"
      ],
      "metadata": {
        "id": "hQQeDmuR4Qgx"
      },
      "execution_count": 25,
      "outputs": []
    }
  ]
}